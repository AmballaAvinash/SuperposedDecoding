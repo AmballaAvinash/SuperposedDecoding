{
 "cells": [
  {
   "cell_type": "code",
   "execution_count": 1,
   "id": "0bab95df-aaee-4554-9e05-adcabac01657",
   "metadata": {},
   "outputs": [],
   "source": [
    "import os\n",
    "os.chdir(\"/work/pi_dhruveshpate_umass_edu/aamballa_umass_edu/SuperposedDecoding/\")"
   ]
  },
  {
   "cell_type": "code",
   "execution_count": 2,
   "id": "119805f4-8589-4379-ad87-a7bad4c0e658",
   "metadata": {},
   "outputs": [],
   "source": [
    "%load_ext autoreload\n",
    "%autoreload 2\n",
    "\n",
    "import json\n",
    "import os\n",
    "import pickle\n",
    "from datetime import datetime\n",
    "\n",
    "# import evaluate\n",
    "import torch\n",
    "from tqdm import tqdm\n",
    "\n",
    "from eval import *\n",
    "from superposed.llama.metrics import *\n",
    "from superposed.llama.generation import Llama\n",
    "from superposed.llama.superposed_generation import SuperposedLlama\n",
    "from superposed.llama.tokenizer import Tokenizer\n",
    "from superposed.ngrams.ngram_models import make_models"
   ]
  },
  {
   "cell_type": "code",
   "execution_count": 4,
   "id": "51c15900-c8b8-46d9-a884-6842a391ef48",
   "metadata": {},
   "outputs": [],
   "source": [
    "sup_device = torch.device(\"cuda:0\")"
   ]
  },
  {
   "cell_type": "code",
   "execution_count": 5,
   "id": "9817d9a4-ad64-41c6-b87b-b1e422b836a9",
   "metadata": {},
   "outputs": [
    {
     "name": "stdout",
     "output_type": "stream",
     "text": [
      "Parameters: {'alpha': 0.54, 'temp': 0.06, 'n_drafts': 3, 'prompt_len': 15, 'n_token_sample': 9, 'n_token_consider': 32000, 'mixing_method': 'sample_new_weights_with_score', 'smoothing': 'geom', 'sample_tokens': 0, 'sample_beams': 0, 'i_weights': [0.01, 0.04, 0.15, 0.18, 0.12], 'i_length': [1, 2, 3, 4, 5]}\n"
     ]
    }
   ],
   "source": [
    "# Params\n",
    "param_file = \"params/p15_d3_mixed.json\"\n",
    "with open(param_file, \"r\") as f:\n",
    "    params = json.load(f)\n",
    "    print(f\"Parameters: {params}\")\n",
    "alpha = params[\"alpha\"]\n",
    "temp = params[\"temp\"]\n",
    "n_drafts = params[\"n_drafts\"]\n",
    "prompt_len = params[\"prompt_len\"]\n",
    "n_token_sample = params[\"n_token_sample\"]\n",
    "i_weights = params[\"i_weights\"]\n",
    "i_length = params[\"i_length\"]"
   ]
  },
  {
   "cell_type": "code",
   "execution_count": null,
   "id": "9c99098e-a38b-4c78-a0e9-8c80309830bb",
   "metadata": {},
   "outputs": [
    {
     "name": "stdout",
     "output_type": "stream",
     "text": [
      "Making bigram...\n",
      "1310808\n",
      "Making trigram...\n",
      "335544408\n",
      "Making fourgram...\n",
      "1342177368\n",
      "Making fivegram...\n"
     ]
    }
   ],
   "source": [
    "# Create ngram models\n",
    "ngrams = make_models(\"ngrams/ckpts-400k\", bigram=True, trigram=True, fourgram=True, fivegram=True, sixgram=True, sevengram=False)"
   ]
  },
  {
   "cell_type": "code",
   "execution_count": 6,
   "id": "ccfe4f41-aa8a-4ed8-b70d-8dd6b75a19bb",
   "metadata": {},
   "outputs": [],
   "source": [
    "os.environ[\"RANK\"] = \"0\"\n",
    "os.environ[\"WORLD_SIZE\"] = \"1\"\n",
    "os.environ[\"MASTER_ADDR\"] = \"127.0.0.1\"\n",
    "os.environ[\"MASTER_PORT\"] = \"10301\""
   ]
  },
  {
   "cell_type": "code",
   "execution_count": 7,
   "id": "c3331332-242c-4e98-9f11-58c6dc0ef581",
   "metadata": {},
   "outputs": [
    {
     "name": "stdout",
     "output_type": "stream",
     "text": [
      "> initializing model parallel with size 1\n",
      "> initializing ddp with size 1\n",
      "> initializing pipeline with size 1\n"
     ]
    },
    {
     "name": "stderr",
     "output_type": "stream",
     "text": [
      "/work/pi_dhruveshpate_umass_edu/aamballa_umass_edu/.conda/envs/Superposed/lib/python3.9/site-packages/torch/__init__.py:747: UserWarning: torch.set_default_tensor_type() is deprecated as of PyTorch 2.1, please use torch.set_default_dtype() and torch.set_default_device() as alternatives. (Triggered internally at ../torch/csrc/tensor/python_tensor.cpp:431.)\n",
      "  _C._set_default_tensor_type(t)\n"
     ]
    },
    {
     "name": "stdout",
     "output_type": "stream",
     "text": [
      "Loaded in 16.90 seconds\n",
      "cuda:0\n"
     ]
    }
   ],
   "source": [
    "weight_path = \"7B/llama-2-7b\"\n",
    "token_path = \"7B/\"\n",
    "\n",
    "# loading transformer model (suitable for superposed generaeion) from checkooint\n",
    "model = SuperposedLlama.build(ckpt_dir=weight_path, \n",
    "                         tokenizer_path=f'{token_path}/tokenizer.model', \n",
    "                         max_seq_len=100, \n",
    "                         max_batch_size=32,\n",
    "                         device=sup_device,\n",
    "                         model_parallel_size=1)\n",
    "\n",
    "tokenizer = Tokenizer('7B/tokenizer.model')"
   ]
  },
  {
   "cell_type": "markdown",
   "id": "e2b48c23-d6a3-43b1-ad4c-54524aacfda6",
   "metadata": {},
   "source": [
    "# Inference"
   ]
  },
  {
   "cell_type": "code",
   "execution_count": 8,
   "id": "5093373b-bf76-47e3-8f99-1045b60f29c3",
   "metadata": {},
   "outputs": [],
   "source": [
    "def decode(tokenizer, encoding):\n",
    "    \"\"\"\n",
    "    Args:\n",
    "        tokenizer (Any): Tokenizer\n",
    "        encoding (torch.Tensor): Encoding\n",
    "    Returns:\n",
    "        decoding (str)\n",
    "    \"\"\"\n",
    "    eos_locs = (encoding == tokenizer.eos_id).nonzero()\n",
    "    if len(eos_locs > 0):\n",
    "        encoding = encoding[:eos_locs[0]]\n",
    "    return tokenizer.decode(encoding.to(torch.int32).tolist())"
   ]
  },
  {
   "cell_type": "code",
   "execution_count": 9,
   "id": "18703b19-f3e9-46e4-ab1c-c6d3b403c6d2",
   "metadata": {},
   "outputs": [],
   "source": [
    "prompts = [\n",
    "    \"Hi my name is\",\n",
    "    \"The Seattle Seahawks were Super Bowl\",\n",
    "    \"Penguins are birds native to\"\n",
    "]\n",
    "tokenized_prompts = tokenizer.encode(prompts, True, False)"
   ]
  },
  {
   "cell_type": "code",
   "execution_count": 19,
   "id": "d39cd735-9480-4979-ac92-bbd470f75570",
   "metadata": {},
   "outputs": [
    {
     "ename": "NameError",
     "evalue": "name 'model' is not defined",
     "output_type": "error",
     "traceback": [
      "\u001b[0;31m---------------------------------------------------------------------------\u001b[0m",
      "\u001b[0;31mNameError\u001b[0m                                 Traceback (most recent call last)",
      "Cell \u001b[0;32mIn[19], line 1\u001b[0m\n\u001b[0;32m----> 1\u001b[0m alive_gens, _ \u001b[38;5;241m=\u001b[39m \u001b[43mmodel\u001b[49m\u001b[38;5;241m.\u001b[39msup_generate(prompt_tokens\u001b[38;5;241m=\u001b[39mtokenized_prompts, \n\u001b[1;32m      2\u001b[0m                                         smoothing\u001b[38;5;241m=\u001b[39m\u001b[38;5;124m\"\u001b[39m\u001b[38;5;124mgeom\u001b[39m\u001b[38;5;124m\"\u001b[39m,\n\u001b[1;32m      3\u001b[0m                                         max_gen_len\u001b[38;5;241m=\u001b[39m\u001b[38;5;241m10\u001b[39m, \n\u001b[1;32m      4\u001b[0m                                         n_token_sample\u001b[38;5;241m=\u001b[39mn_token_sample,\n\u001b[1;32m      5\u001b[0m                                         alpha\u001b[38;5;241m=\u001b[39malpha, \n\u001b[1;32m      6\u001b[0m                                         temp\u001b[38;5;241m=\u001b[39mtemp,\n\u001b[1;32m      7\u001b[0m                                         n_drafts\u001b[38;5;241m=\u001b[39mn_drafts,\n\u001b[1;32m      8\u001b[0m                                         i_weights\u001b[38;5;241m=\u001b[39mi_weights,\n\u001b[1;32m      9\u001b[0m                                         i_length\u001b[38;5;241m=\u001b[39mi_length,\n\u001b[1;32m     10\u001b[0m                                         ngrams\u001b[38;5;241m=\u001b[39mngrams,\n\u001b[1;32m     11\u001b[0m                                         get_time\u001b[38;5;241m=\u001b[39m\u001b[38;5;28;01mFalse\u001b[39;00m,\n\u001b[1;32m     12\u001b[0m                                         penalty\u001b[38;5;241m=\u001b[39m\u001b[38;5;241m200\u001b[39m)\n",
      "\u001b[0;31mNameError\u001b[0m: name 'model' is not defined"
     ]
    }
   ],
   "source": [
    "alive_gens, token_probs, ngram_prob_mtx = model.sup_generate(prompt_tokens=tokenized_prompts, \n",
    "                                        smoothing=\"geom\",\n",
    "                                        max_gen_len=10, \n",
    "                                        n_token_sample=n_token_sample,\n",
    "                                        alpha=alpha, \n",
    "                                        temp=temp,\n",
    "                                        n_drafts=n_drafts,\n",
    "                                        i_weights=i_weights,\n",
    "                                        i_length=i_length,\n",
    "                                        ngrams=ngrams,\n",
    "                                        get_time=False,\n",
    "                                        penalty=200,\n",
    "                                        get_model_probs=True)"
   ]
  },
  {
   "cell_type": "code",
   "execution_count": 11,
   "id": "44ef32d8-1edf-403b-9a37-8288da2751f7",
   "metadata": {},
   "outputs": [],
   "source": [
    "alive_gens_no_ngram, _ = model.sup_generate(prompt_tokens=tokenized_prompts, \n",
    "                                        smoothing=None,\n",
    "                                        max_gen_len=10, \n",
    "                                        n_token_sample=n_token_sample,\n",
    "                                        alpha=alpha, \n",
    "                                        temp=temp,\n",
    "                                        n_drafts=n_drafts,\n",
    "                                        i_weights=i_weights,\n",
    "                                        i_length=i_length,\n",
    "                                        ngrams=[],\n",
    "                                        get_time=False,\n",
    "                                        penalty=200,\n",
    "                                        get_model_probs=False)"
   ]
  },
  {
   "cell_type": "code",
   "execution_count": 13,
   "id": "cfefa793-e49e-483a-a504-5cc9e23f619d",
   "metadata": {},
   "outputs": [],
   "source": [
    "gens = alive_gens_no_ngram[0].reshape(len(prompts) * n_drafts, -1)\n",
    "for i in gens:\n",
    "    print(decode(tokenizer, i))"
   ]
  },
  {
   "cell_type": "markdown",
   "id": "18fb1454-31ae-4fad-ba58-cf307bccb9a4",
   "metadata": {},
   "source": [
    "# GSM 8K "
   ]
  },
  {
   "cell_type": "code",
   "execution_count": 18,
   "id": "6bdf6c14-2f65-4002-8001-155e31381557",
   "metadata": {},
   "outputs": [],
   "source": [
    "GSM8K_EXEMPLARS = [\n",
    "    {\n",
    "        \"question\": \"There are 15 trees in the grove. Grove workers will plant trees in the grove today. After they are done, there will be 21 trees. How many trees did the grove workers plant today?\",\n",
    "        \"reasoning\": \"There are 15 trees originally. Then there were 21 trees after some more were planted. So there must have been 21 - 15 = 6.\",\n",
    "        \"answer\": \"6\",\n",
    "    },\n",
    "    {\n",
    "        \"question\": \"If there are 3 cars in the parking lot and 2 more cars arrive, how many cars are in the parking lot?\",\n",
    "        \"reasoning\": \"There are originally 3 cars. 2 more cars arrive. 3 + 2 = 5.\",\n",
    "        \"answer\": \"5\",\n",
    "    },\n",
    "    {\n",
    "        \"question\": \"Leah had 32 chocolates and her sister had 42. If they ate 35, how many pieces do they have left in total?\",\n",
    "        \"reasoning\": \"Originally, Leah had 32 chocolates. Her sister had 42. So in total they had 32 + 42 = 74. After eating 35, they had 74 - 35 = 39.\",\n",
    "        \"answer\": \"39\",\n",
    "    },\n",
    "    {\n",
    "        \"question\": \"Jason had 20 lollipops. He gave Denny some lollipops. Now Jason has 12 lollipops. How many lollipops did Jason give to Denny?\",\n",
    "        \"reasoning\": \"Jason started with 20 lollipops. Then he had 12 after giving some to Denny. So he gave Denny 20 - 12 = 8.\",\n",
    "        \"answer\": \"8\",\n",
    "    },\n",
    "    {\n",
    "        \"question\": \"Shawn has five toys. For Christmas, he got two toys each from his mom and dad. How many toys does he have now?\",\n",
    "        \"reasoning\": \"Shawn started with 5 toys. If he got 2 toys each from his mom and dad, then that is 4 more toys. 5 + 4 = 9.\",\n",
    "        \"answer\": \"9\",\n",
    "    },\n",
    "    {\n",
    "        \"question\": \"There were nine computers in the server room. Five more computers were installed each day, from monday to thursday. How many computers are now in the server room?\",\n",
    "        \"reasoning\": \"There were originally 9 computers. For each of 4 days, 5 more computers were added. So 5 * 4 = 20 computers were added. 9 + 20 is 29.\",\n",
    "        \"answer\": \"29\",\n",
    "    },\n",
    "    {\n",
    "        \"question\": \"Michael had 58 golf balls. On tuesday, he lost 23 golf balls. On wednesday, he lost 2 more. How many golf balls did he have at the end of wednesday?\",\n",
    "        \"reasoning\": \"Michael started with 58 golf balls. After losing 23 on tuesday, he had 58 - 23 = 35. After losing 2 more, he had 35 - 2 = 33 golf balls.\",\n",
    "        \"answer\": \"33\",\n",
    "    },\n",
    "    {\n",
    "        \"question\": \"Olivia has $23. She bought five bagels for $3 each. How much money does she have left?\",\n",
    "        \"reasoning\": \"Olivia had 23 dollars. 5 bagels for 3 dollars each will be 5 x 3 = 15 dollars. So she has 23 - 15 dollars left. 23 - 15 is 8.\",\n",
    "        \"answer\": \"8\",\n",
    "    },\n",
    "]\n",
    "\n",
    "prompts = [GSM8K_EXEMPLARS[i][\"question\"] for i in range(len(GSM8K_EXEMPLARS))]\n",
    "tokenized_prompts = tokenizer.encode(prompts, True, False)"
   ]
  },
  {
   "cell_type": "code",
   "execution_count": 19,
   "id": "0200afe5-e56e-405f-8f31-1f1d51bb9b45",
   "metadata": {},
   "outputs": [],
   "source": [
    "alive_gens_no_ngram, _ = model.sup_generate(prompt_tokens=tokenized_prompts, \n",
    "                                        smoothing=None,\n",
    "                                        max_gen_len=10, \n",
    "                                        n_token_sample=n_token_sample,\n",
    "                                        alpha=alpha, \n",
    "                                        temp=temp,\n",
    "                                        n_drafts=n_drafts,\n",
    "                                        i_weights=i_weights,\n",
    "                                        i_length=i_length,\n",
    "                                        ngrams=[],\n",
    "                                        get_time=False,\n",
    "                                        penalty=200,\n",
    "                                        get_model_probs=False)"
   ]
  },
  {
   "cell_type": "code",
   "execution_count": 20,
   "id": "087e7f4c-66e3-4f6f-b94c-740122418c0b",
   "metadata": {},
   "outputs": [
    {
     "name": "stdout",
     "output_type": "stream",
     "text": [
      "There are 15 trees in the grove. Grove workers will plant trees in the grove today. After they are done, there will be 21 trees. How many trees did the grove workers plant today?\n",
      "There are 15 trees in the gro\n",
      "There are 15 trees in the grove. Grove workers will plant trees in the grove today. After they are done, there will be 21 trees. How many trees did the grove workers plant today?\n",
      "The are 15 trees in the gro\n",
      "There are 15 trees in the grove. Grove workers will plant trees in the grove today. After they are done, there will be 21 trees. How many trees did the grove workers plant today?\n",
      "A are 15 trees in the gro\n",
      "If there are 3 cars in the parking lot and 2 more cars arrive, how many cars are in the parking lot?\n",
      "How many cars are in the parking lot?\n",
      "How many cars are in the parking lot if there are 3 cars in the\n",
      "If there are 3 cars in the parking lot and 2 more cars arrive, how many cars are in the parking lot?\n",
      "How many cars are in the parking lot?\n",
      "If many cars are in the parking lot if there are 3 cars in the\n",
      "If there are 3 cars in the parking lot and 2 more cars arrive, how many cars are in the parking lot?\n",
      "How many cars are in the parking lot?\n",
      "How many cars are in the parking lot? there are 3 cars in the\n",
      "Leah had 32 chocolates and her sister had 42. If they ate 35, how many pieces do they have left in total?\n",
      "Leah had 32 chocolates and her sister had 42. If they\n",
      "Leah had 32 chocolates and her sister had 42. If they ate 35, how many pieces do they have left in total?\n",
      "Theah had 32 chocolates and her sister had 42. If they\n",
      "Leah had 32 chocolates and her sister had 42. If they ate 35, how many pieces do they have left in total?\n",
      "3ah had 32 chocolates and her sister had 42. If they\n",
      "Jason had 20 lollipops. He gave Denny some lollipops. Now Jason has 12 lollipops. How many lollipops did Jason give to Denny?\n",
      "Jason had 20 lollipops. He\n",
      "Jason had 20 lollipops. He gave Denny some lollipops. Now Jason has 12 lollipops. How many lollipops did Jason give to Denny?\n",
      "Iason had 20 lollipops. He\n",
      "Jason had 20 lollipops. He gave Denny some lollipops. Now Jason has 12 lollipops. How many lollipops did Jason give to Denny?\n",
      "Jason had 20 lollipops.\n",
      "\n",
      "Shawn has five toys. For Christmas, he got two toys each from his mom and dad. How many toys does he have now?\n",
      "Shawn has five toys. For Christmas, he got two toys each from his mom and dad.\n",
      "Shawn has five toys. For Christmas, he got two toys each from his mom and dad. How many toys does he have now?\n",
      "Shawn has five toys.\n",
      " Christmas, he got two toys each from his mom and dad.\n",
      "Shawn has five toys. For Christmas, he got two toys each from his mom and dad. How many toys does he have now?\n",
      "Shawn has  toys. For Christmas, he got two toys each from his mom and dad.\n",
      "There were nine computers in the server room. Five more computers were installed each day, from monday to thursday. How many computers are now in the server room?\n",
      "The server room has 14 computers.\n",
      "The server room has 14 computers. The server\n",
      "There were nine computers in the server room. Five more computers were installed each day, from monday to thursday. How many computers are now in the server room?\n",
      "The first room has 14 computers.\n",
      "The server room has 14 computers. The server\n",
      "There were nine computers in the server room. Five more computers were installed each day, from monday to thursday. How many computers are now in the server room?\n",
      "There server room has 14 computers.\n",
      "The server room has 14 computers. The server\n",
      "Michael had 58 golf balls. On tuesday, he lost 23 golf balls. On wednesday, he lost 2 more. How many golf balls did he have at the end of wednesday?\n",
      "The answer is 35.\n",
      "The\n",
      "Michael had 58 golf balls. On tuesday, he lost 23 golf balls. On wednesday, he lost 2 more. How many golf balls did he have at the end of wednesday?\n",
      "The answer is 35. HeThe\n",
      "Michael had 58 golf balls. On tuesday, he lost 23 golf balls. On wednesday, he lost 2 more. How many golf balls did he have at the end of wednesday?\n",
      "The answer is 35.\n",
      "I\n",
      "Olivia has $23. She bought five bagels for $3 each. How much money does she have left?\n",
      "Olivia has $23. She bought five bagels for $3 each. How much money does she have left?\n",
      "Olivia has\n",
      "Olivia has $23. She bought five bagels for $3 each. How much money does she have left?\n",
      "Olivia has $23. She bought five bagels for $3 each. How much money does she have left? $Olivia has\n",
      "Olivia has $23. She bought five bagels for $3 each. How much money does she have left?\n",
      "Olivia has $23. She bought five bagels for $3 each. How much money does she have left?...Olivia has\n"
     ]
    }
   ],
   "source": [
    "gens = alive_gens_no_ngram[0].reshape(len(prompts) * n_drafts, -1)\n",
    "for i in gens:\n",
    "    print(decode(tokenizer, i))"
   ]
  }
 ],
 "metadata": {
  "kernelspec": {
   "display_name": "Python 3 (ipykernel)",
   "language": "python",
   "name": "python3"
  },
  "language_info": {
   "codemirror_mode": {
    "name": "ipython",
    "version": 3
   },
   "file_extension": ".py",
   "mimetype": "text/x-python",
   "name": "python",
   "nbconvert_exporter": "python",
   "pygments_lexer": "ipython3",
   "version": "3.9.0"
  }
 },
 "nbformat": 4,
 "nbformat_minor": 5
}
